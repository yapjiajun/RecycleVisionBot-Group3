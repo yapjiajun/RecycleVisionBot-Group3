{
  "nbformat": 4,
  "nbformat_minor": 0,
  "metadata": {
    "colab": {
      "provenance": [],
      "gpuType": "T4"
    },
    "kernelspec": {
      "name": "python3",
      "display_name": "Python 3"
    },
    "language_info": {
      "name": "python"
    },
    "accelerator": "GPU"
  },
  "cells": [
    {
      "cell_type": "markdown",
      "source": [
        "# ECSE 275 Assignment 5 Part 3\n",
        "\n",
        "In this google colab notebook, we train a neural network to recognize numbers. We will later use this trained neural network to imbue a robot with the ability to recognize numbers."
      ],
      "metadata": {
        "id": "eSV4nxC6orgH"
      }
    },
    {
      "cell_type": "code",
      "execution_count": null,
      "metadata": {
        "id": "WvN_ShIMc1ro"
      },
      "outputs": [],
      "source": [
        "import torch\n",
        "import torch.nn as nn\n",
        "import torch.optim as optim\n",
        "import torchvision\n",
        "import torchvision.transforms as transforms\n",
        "import torch.nn.functional as F\n",
        "\n",
        "import matplotlib.pyplot as plt\n",
        "import numpy as np\n",
        "\n",
        "def visualize_mnist_grid(data_loader, num_samples=25, num_rows=5):\n",
        "    # Create an iterator from the data loader\n",
        "    data_iterator = iter(data_loader)\n",
        "\n",
        "    # Get a batch of images and labels\n",
        "    images, labels = next(data_iterator)\n",
        "\n",
        "    # Display the images in a grid\n",
        "    fig, axes = plt.subplots(num_rows, num_samples // num_rows, figsize=(12, 8))\n",
        "\n",
        "    for i in range(num_samples):\n",
        "        row, col = i // (num_samples // num_rows), i % (num_samples // num_rows)\n",
        "        ax = axes[row, col]\n",
        "        image = images[i].numpy().squeeze()\n",
        "        label = labels[i].item()\n",
        "\n",
        "        ax.imshow(image, cmap='gray')\n",
        "        ax.set_title(f'Label: {label}')\n",
        "        ax.axis('off')\n",
        "\n",
        "    plt.subplots_adjust(wspace=0.2, hspace=0.5)\n",
        "    plt.show()\n"
      ]
    },
    {
      "cell_type": "code",
      "source": [
        "# Run this to use GPU\n",
        "# Check for GPU availability\n",
        "device = torch.device(\"cuda:0\" if torch.cuda.is_available() else \"cpu\")\n",
        "print(device)"
      ],
      "metadata": {
        "colab": {
          "base_uri": "https://localhost:8080/"
        },
        "id": "6tdeJDhyi93G",
        "outputId": "102e5e62-927d-461a-a3b9-ef37402dcd88"
      },
      "execution_count": null,
      "outputs": [
        {
          "output_type": "stream",
          "name": "stdout",
          "text": [
            "cuda:0\n"
          ]
        }
      ]
    },
    {
      "cell_type": "markdown",
      "source": [
        "We will use the MNIST data set of numbers. We load the dataset for use and visualize it to give us an idea of what we are dealing with."
      ],
      "metadata": {
        "id": "8CZBIF9adB_e"
      }
    },
    {
      "cell_type": "code",
      "source": [
        "#transform = transforms.Compose([transforms.ToTensor(),transforms.RandomResizedCrop(size=(24, 24))])\n",
        "transform = transforms.Compose([transforms.ToTensor()])\n",
        "trainset = torchvision.datasets.MNIST(root='./data', train=True, download=True, transform=transform)\n",
        "trainloader = torch.utils.data.DataLoader(trainset, batch_size=64, shuffle=True)\n",
        "\n",
        "# Visualize a grid of 25 samples from the MNIST dataset\n",
        "visualize_mnist_grid(trainloader, num_samples=25, num_rows=5)"
      ],
      "metadata": {
        "id": "_klwBI12dBaz",
        "colab": {
          "base_uri": "https://localhost:8080/",
          "height": 968
        },
        "outputId": "0b852235-e59a-41ca-e920-80a2135499d3"
      },
      "execution_count": null,
      "outputs": [
        {
          "output_type": "stream",
          "name": "stdout",
          "text": [
            "Downloading http://yann.lecun.com/exdb/mnist/train-images-idx3-ubyte.gz\n",
            "Downloading http://yann.lecun.com/exdb/mnist/train-images-idx3-ubyte.gz to ./data/MNIST/raw/train-images-idx3-ubyte.gz\n"
          ]
        },
        {
          "output_type": "stream",
          "name": "stderr",
          "text": [
            "100%|██████████| 9912422/9912422 [00:00<00:00, 45658995.18it/s]\n"
          ]
        },
        {
          "output_type": "stream",
          "name": "stdout",
          "text": [
            "Extracting ./data/MNIST/raw/train-images-idx3-ubyte.gz to ./data/MNIST/raw\n",
            "\n",
            "Downloading http://yann.lecun.com/exdb/mnist/train-labels-idx1-ubyte.gz\n",
            "Downloading http://yann.lecun.com/exdb/mnist/train-labels-idx1-ubyte.gz to ./data/MNIST/raw/train-labels-idx1-ubyte.gz\n"
          ]
        },
        {
          "output_type": "stream",
          "name": "stderr",
          "text": [
            "100%|██████████| 28881/28881 [00:00<00:00, 70798184.58it/s]\n"
          ]
        },
        {
          "output_type": "stream",
          "name": "stdout",
          "text": [
            "Extracting ./data/MNIST/raw/train-labels-idx1-ubyte.gz to ./data/MNIST/raw\n",
            "\n",
            "Downloading http://yann.lecun.com/exdb/mnist/t10k-images-idx3-ubyte.gz\n",
            "Downloading http://yann.lecun.com/exdb/mnist/t10k-images-idx3-ubyte.gz to ./data/MNIST/raw/t10k-images-idx3-ubyte.gz\n"
          ]
        },
        {
          "output_type": "stream",
          "name": "stderr",
          "text": [
            "100%|██████████| 1648877/1648877 [00:00<00:00, 66929492.57it/s]"
          ]
        },
        {
          "output_type": "stream",
          "name": "stdout",
          "text": [
            "Extracting ./data/MNIST/raw/t10k-images-idx3-ubyte.gz to ./data/MNIST/raw\n"
          ]
        },
        {
          "output_type": "stream",
          "name": "stderr",
          "text": [
            "\n"
          ]
        },
        {
          "output_type": "stream",
          "name": "stdout",
          "text": [
            "\n",
            "Downloading http://yann.lecun.com/exdb/mnist/t10k-labels-idx1-ubyte.gz\n",
            "Downloading http://yann.lecun.com/exdb/mnist/t10k-labels-idx1-ubyte.gz to ./data/MNIST/raw/t10k-labels-idx1-ubyte.gz\n"
          ]
        },
        {
          "output_type": "stream",
          "name": "stderr",
          "text": [
            "100%|██████████| 4542/4542 [00:00<00:00, 21972928.22it/s]\n"
          ]
        },
        {
          "output_type": "stream",
          "name": "stdout",
          "text": [
            "Extracting ./data/MNIST/raw/t10k-labels-idx1-ubyte.gz to ./data/MNIST/raw\n",
            "\n"
          ]
        },
        {
          "output_type": "display_data",
          "data": {
            "text/plain": [
              "<Figure size 1200x800 with 25 Axes>"
            ],
            "image/png": "[encoded data removed]"
          },
          "metadata": {}
        }
      ]
    },
    {
      "cell_type": "markdown",
      "source": [
        "## Question 2: Fully Connected Neural Network\n",
        "\n",
        "Define a neural network architecture with 3 Linear Layers\n",
        "\n",
        "Use the following intermediate layer architecture:\n",
        "\n",
        "1.   First Layer 128 nodes\n",
        "2.   Second Layer 64 nodes\n",
        "\n",
        "**What dimension is input to the first layer if we are going to flatten the image into a single vector?**\n",
        "\n",
        "**What should the output be if we are trying to predict 10 different numbers with the softmax function?**\n",
        "\n",
        "Do build the network you have to construct a custom `Net` class which inherits from the `nn.Module` class\n",
        "\n",
        "During the `init` method use the function to declare layers: `nn.Linear(input_dim,output_dim)`\n",
        "\n",
        "In the `forward` method, pass the input through each layer by calling the layers in sequence.\n",
        "e.g `x = self.fc(x) `\n",
        "\n",
        "After each pass through an intermediate layer, remember to then pass the network through a non-linearity. Here we use the Rectified Linear Unit\n",
        "e.g. `x = F.relu(x)`\n",
        "\n",
        "The output of the last layer does not need to be pass through a non-linearity\n",
        "Just return the value of x after we pass all the layers.\n"
      ],
      "metadata": {
        "id": "IBrnGhQwdQLr"
      }
    },
    {
      "cell_type": "code",
      "source": [
        "class Net(nn.Module):\n",
        "    def __init__(self):\n",
        "        super(Net, self).__init__()\n",
        "        self.fc1 = nn.Linear(784,128)\n",
        "        self.fc2 = nn.Linear(128,64)\n",
        "        self.fc3 = nn.Linear(64,10)\n",
        "\n",
        "    def forward(self, x):\n",
        "        x = x.view(-1, 28 * 28)  # Flatten the input\n",
        "        x = self.fc1(x)\n",
        "        x = F.relu(x)\n",
        "        x = self.fc2(x)\n",
        "        x = F.relu(x)\n",
        "        x = self.fc3(x)\n",
        "        return x\n",
        "\n",
        "net = Net().to(device)\n",
        "net\n"
      ],
      "metadata": {
        "id": "0fU14B_hdRbC",
        "colab": {
          "base_uri": "https://localhost:8080/"
        },
        "outputId": "8f11224f-8b6f-4e4c-a7e1-582900946d35"
      },
      "execution_count": null,
      "outputs": [
        {
          "output_type": "execute_result",
          "data": {
            "text/plain": [
              "Net(\n",
              "  (fc1): Linear(in_features=784, out_features=128, bias=True)\n",
              "  (fc2): Linear(in_features=128, out_features=64, bias=True)\n",
              "  (fc3): Linear(in_features=64, out_features=10, bias=True)\n",
              ")"
            ]
          },
          "metadata": {},
          "execution_count": 4
        }
      ]
    },
    {
      "cell_type": "markdown",
      "source": [
        "### Define the loss criteria and our optimization method\n",
        "\n",
        "The loss we use is the Cross Entropy Loss. This automatically uses the Softmax function followed by calculation of the negative log-likelihood loss.\n",
        "\n",
        "For the optimizer, we use the Ada-M AKA Adam optimizer because it does not require us to really tune the learning rate for our training."
      ],
      "metadata": {
        "id": "udykb2OsdVe_"
      }
    },
    {
      "cell_type": "code",
      "source": [
        "criterion = nn.CrossEntropyLoss()\n",
        "optimizer = optim.Adam(net.parameters(), lr=0.001)"
      ],
      "metadata": {
        "id": "Wm8hEngddU4g"
      },
      "execution_count": null,
      "outputs": []
    },
    {
      "cell_type": "markdown",
      "source": [
        "### Train the neural network\n",
        "\n",
        "We will run the neural network training for 10 passes (epochs) through our data.\n",
        "\n",
        "We monitor the loss over each epoch"
      ],
      "metadata": {
        "id": "ixs8DzwcmmBa"
      }
    },
    {
      "cell_type": "code",
      "source": [
        "for epoch in range(10):  # You can adjust the number of epochs\n",
        "    running_loss = 0.0\n",
        "    for i, data in enumerate(trainloader, 0):\n",
        "        inputs, labels = data\n",
        "        inputs, labels = inputs.to(device), labels.to(device)\n",
        "        optimizer.zero_grad()\n",
        "        outputs = net(inputs)\n",
        "        loss = criterion(outputs, labels)\n",
        "        loss.backward()\n",
        "        optimizer.step()\n",
        "        running_loss += loss.item()\n",
        "    print(f'Epoch {epoch+1}, Loss: {running_loss/len(trainloader)}')"
      ],
      "metadata": {
        "id": "I6r-etkOdWoK",
        "colab": {
          "base_uri": "https://localhost:8080/"
        },
        "outputId": "a898be13-a05b-4925-e820-2fed09a5094d"
      },
      "execution_count": null,
      "outputs": [
        {
          "output_type": "stream",
          "name": "stdout",
          "text": [
            "Epoch 1, Loss: 0.3410468441781713\n",
            "Epoch 2, Loss: 0.13745367698776506\n",
            "Epoch 3, Loss: 0.09587336231225621\n",
            "Epoch 4, Loss: 0.0727430861527676\n",
            "Epoch 5, Loss: 0.057387838789846685\n",
            "Epoch 6, Loss: 0.04663422603375102\n",
            "Epoch 7, Loss: 0.03678068780504824\n",
            "Epoch 8, Loss: 0.03136804378151507\n",
            "Epoch 9, Loss: 0.02491644639439304\n",
            "Epoch 10, Loss: 0.0217854175021389\n"
          ]
        }
      ]
    },
    {
      "cell_type": "markdown",
      "source": [
        "### Evaluate our performance on the test dataset\n",
        "\n",
        "Next, we create a new dataloader for the MNIST Test Set and run an evaluation of our trained neural network.\n",
        "\n",
        "**Report your accuracy on the test set.**"
      ],
      "metadata": {
        "id": "N8EhoRsAmq67"
      }
    },
    {
      "cell_type": "code",
      "source": [
        "testset = torchvision.datasets.MNIST(root='./data', train=False, download=True, transform=transform)\n",
        "testloader = torch.utils.data.DataLoader(testset, batch_size=64, shuffle=False)\n",
        "\n",
        "correct = 0\n",
        "total = 0\n",
        "with torch.no_grad():\n",
        "    for data in testloader:\n",
        "        images, labels = data\n",
        "        images, labels = images.to(device), labels.to(device)\n",
        "        outputs = net(images)\n",
        "        _, predicted = torch.max(outputs, 1)\n",
        "        total += labels.size(0)\n",
        "        correct += (predicted == labels).sum().item()\n",
        "\n",
        "print(f'Accuracy on the test set: {100 * correct / total}%')"
      ],
      "metadata": {
        "colab": {
          "base_uri": "https://localhost:8080/"
        },
        "id": "iY2esZyAem46",
        "outputId": "422133d4-e05a-4318-e531-6129b2dd4690"
      },
      "execution_count": null,
      "outputs": [
        {
          "output_type": "stream",
          "name": "stdout",
          "text": [
            "Accuracy on the test set: 97.95%\n"
          ]
        }
      ]
    },
    {
      "cell_type": "markdown",
      "source": [
        "### Save our model parameters\n",
        "\n",
        "We can save our model parameters to a specific file name.\n",
        "\n",
        "Make sure to save these weights to your local drive."
      ],
      "metadata": {
        "id": "Oeh3iFjamtf2"
      }
    },
    {
      "cell_type": "code",
      "source": [
        "filename = \"model_weights.pth\"\n",
        "\n",
        "net = net.to(\"cpu\")\n",
        "torch.save(net.state_dict(),filename)"
      ],
      "metadata": {
        "id": "PKx3AhNPmL00"
      },
      "execution_count": null,
      "outputs": []
    },
    {
      "cell_type": "markdown",
      "source": [
        "## Question 3: Train a Convolutional Neural Network\n",
        "\n",
        "Next we will train a more powerful model for image recognition, the convolutional neural network.\n",
        "\n",
        "We will use the following architecture\n",
        "\n",
        "1.   Convolution Layer 32-channel with kernel size 5, stride 1\n",
        "2.   Maxpool kernel size 2, stride 2\n",
        "3.   Convolution Layer 64-channel with kernel size 3, stride 1\n",
        "4.   Maxpool kernel size 2, stride 2\n",
        "5.   Convolution Layer 64-channel with kernel size 2, stride 1\n",
        "6.   Maxpool kernel size 2, stride 2\n",
        "7.   Linear Layer 128 nodes\n",
        "\n",
        "After each neural network layer (i.e. convolutional linear layers) we must pass the output through a Rectified Linear Unit like we did in with the fully connected neural network in Question 2.\n",
        "\n",
        "Convolutional layers can be defined using `nn.Conv2d(input_channel,output_channel,kernel_size,stride)`\n",
        "\n",
        "Maxpools can be performed using `nn.MaxPool2d(kernel size,stride)`\n",
        "\n",
        "**What is the final size of the output of the final pool layer? Note: This is the input size to the first linear layer**"
      ],
      "metadata": {
        "id": "mi9-YU-kPgXn"
      }
    },
    {
      "cell_type": "code",
      "source": [
        "class CNN(nn.Module):\n",
        "    def __init__(self):\n",
        "        super(CNN, self).__init__()\n",
        "        self.conv1 = nn.Conv2d(1,32,5,1)\n",
        "        self.pool1 = nn.MaxPool2d(2,2)\n",
        "        self.conv2 = nn.Conv2d(32,64,3,1)\n",
        "        self.pool2 = nn.MaxPool2d(2,2)\n",
        "        self.conv3 = nn.Conv2d(64,64,2,1)\n",
        "        self.pool3 = nn.MaxPool2d(2,2)\n",
        "        self.fc1 = nn.Linear(256,128)\n",
        "        self.fc2 = nn.Linear(128,10)\n",
        "\n",
        "    def forward(self, x):\n",
        "        x = self.conv1(x)\n",
        "        x = F.relu(x)\n",
        "        x = self.pool1(x)\n",
        "        x = self.conv2(x)\n",
        "        x = F.relu(x)\n",
        "        x = self.pool2(x)\n",
        "        x = self.conv3(x)\n",
        "        x = F.relu(x)\n",
        "        x = self.pool3(x)\n",
        "        x = x.view(-1, 64*2*2)\n",
        "        x = self.fc1(x)\n",
        "        x = F.relu(x)\n",
        "        x = self.fc2(x)\n",
        "        return x\n",
        "\n",
        "\n",
        "try:\n",
        "  del net\n",
        "  del loss\n",
        "except:\n",
        "  pass\n",
        "\n",
        "torch.cuda.empty_cache()\n",
        "net = CNN().to(device)\n",
        "\n",
        "net"
      ],
      "metadata": {
        "id": "eilAx-nAiJBv",
        "colab": {
          "base_uri": "https://localhost:8080/"
        },
        "outputId": "eb1095ef-3372-455b-c5aa-b7e2cdb228b4"
      },
      "execution_count": null,
      "outputs": [
        {
          "output_type": "execute_result",
          "data": {
            "text/plain": [
              "CNN(\n",
              "  (conv1): Conv2d(1, 32, kernel_size=(5, 5), stride=(1, 1))\n",
              "  (pool1): MaxPool2d(kernel_size=2, stride=2, padding=0, dilation=1, ceil_mode=False)\n",
              "  (conv2): Conv2d(32, 64, kernel_size=(3, 3), stride=(1, 1))\n",
              "  (pool2): MaxPool2d(kernel_size=2, stride=2, padding=0, dilation=1, ceil_mode=False)\n",
              "  (conv3): Conv2d(64, 64, kernel_size=(2, 2), stride=(1, 1))\n",
              "  (pool3): MaxPool2d(kernel_size=2, stride=2, padding=0, dilation=1, ceil_mode=False)\n",
              "  (fc1): Linear(in_features=256, out_features=128, bias=True)\n",
              "  (fc2): Linear(in_features=128, out_features=10, bias=True)\n",
              ")"
            ]
          },
          "metadata": {},
          "execution_count": 9
        }
      ]
    },
    {
      "cell_type": "markdown",
      "source": [
        "### Define the loss criteria and our optimization method\n",
        "The loss we use is the Cross Entropy Loss. This automatically uses the Softmax function followed by calculation of the negative log-likelihood loss.\n",
        "\n",
        "For the optimizer, we use the Ada-M AKA Adam optimizer because it does not require us to really tune the learning rate for our training."
      ],
      "metadata": {
        "id": "vTwsOhnxReWJ"
      }
    },
    {
      "cell_type": "code",
      "source": [
        "criterion = nn.CrossEntropyLoss()\n",
        "optimizer = optim.Adam(net.parameters(), lr=0.001)"
      ],
      "metadata": {
        "id": "0ctJVpFHSK7c"
      },
      "execution_count": null,
      "outputs": []
    },
    {
      "cell_type": "markdown",
      "source": [
        "### Train the neural network\n",
        "\n",
        "We will run the neural network training for 10 passes (epochs) through our data.\n",
        "\n",
        "We monitor the loss over each epoch"
      ],
      "metadata": {
        "id": "Bi35pU1GSXEm"
      }
    },
    {
      "cell_type": "code",
      "source": [
        "for epoch in range(10):  # You can adjust the number of epochs\n",
        "    running_loss = 0.0\n",
        "    for i, data in enumerate(trainloader, 0):\n",
        "        inputs, labels = data\n",
        "        inputs, labels = inputs.to(device), labels.to(device)\n",
        "        optimizer.zero_grad()\n",
        "        outputs = net(inputs)\n",
        "        loss = criterion(outputs, labels)\n",
        "        loss.backward()\n",
        "        optimizer.step()\n",
        "        running_loss += loss.item()\n",
        "    print(f'Epoch {epoch+1}, Loss: {running_loss/len(trainloader)}')"
      ],
      "metadata": {
        "id": "xbjoHRXWSXzQ",
        "colab": {
          "base_uri": "https://localhost:8080/"
        },
        "outputId": "5d2d7547-5511-4c32-b23c-ae201772556b"
      },
      "execution_count": null,
      "outputs": [
        {
          "output_type": "stream",
          "name": "stdout",
          "text": [
            "Epoch 1, Loss: 0.21858591558203214\n",
            "Epoch 2, Loss: 0.05752548798725112\n",
            "Epoch 3, Loss: 0.03928759382390576\n",
            "Epoch 4, Loss: 0.034758401975501826\n",
            "Epoch 5, Loss: 0.026364177217156486\n",
            "Epoch 6, Loss: 0.02326841993559736\n",
            "Epoch 7, Loss: 0.018079994551496205\n",
            "Epoch 8, Loss: 0.017551847705849635\n",
            "Epoch 9, Loss: 0.014106832681594095\n",
            "Epoch 10, Loss: 0.012607472232847127\n"
          ]
        }
      ]
    },
    {
      "cell_type": "markdown",
      "source": [
        "### Evaluate our performance on the test dataset\n",
        "\n",
        "Next, we create a new dataloader for the MNIST Test Set and run an evaluation of our trained neural network.\n",
        "\n",
        "**Report your accuracy on the test set**"
      ],
      "metadata": {
        "id": "o-aWhBN2SdO_"
      }
    },
    {
      "cell_type": "code",
      "source": [
        "testset = torchvision.datasets.MNIST(root='./data', train=False, download=True, transform=transform)\n",
        "testloader = torch.utils.data.DataLoader(testset, batch_size=64, shuffle=False)\n",
        "\n",
        "correct = 0\n",
        "total = 0\n",
        "with torch.no_grad():\n",
        "    for data in testloader:\n",
        "        images, labels = data\n",
        "        images, labels = images.to(device), labels.to(device)\n",
        "        outputs = net(images)\n",
        "        _, predicted = torch.max(outputs, 1)\n",
        "        total += labels.size(0)\n",
        "        correct += (predicted == labels).sum().item()\n",
        "\n",
        "print(f'Accuracy on the test set: {100 * correct / total}%')"
      ],
      "metadata": {
        "id": "hCm0SGLwSlWR",
        "colab": {
          "base_uri": "https://localhost:8080/"
        },
        "outputId": "12e44e63-0115-4275-d161-db2b2fed5328"
      },
      "execution_count": null,
      "outputs": [
        {
          "output_type": "stream",
          "name": "stdout",
          "text": [
            "Accuracy on the test set: 99.03%\n"
          ]
        }
      ]
    },
    {
      "cell_type": "markdown",
      "source": [
        "### Save our model parameters\n",
        "\n",
        "We can save our model parameters to a specific file name.\n",
        "\n",
        "Make sure to save these weights to your local drive."
      ],
      "metadata": {
        "id": "ItgIyGfYSkiJ"
      }
    },
    {
      "cell_type": "code",
      "source": [
        "filename = \"model_weights_cnn.pth\"\n",
        "\n",
        "net = net.to(\"cpu\")\n",
        "torch.save(net.state_dict(),filename)"
      ],
      "metadata": {
        "id": "GdDacOH7Scuf"
      },
      "execution_count": null,
      "outputs": []
    },
    {
      "cell_type": "markdown",
      "source": [
        "## Question 4: Train with data augmentation\n",
        "\n",
        "Finally we train a Convolutional Neural Network, but this time we create variation in our training data using data augmentation.\n",
        "\n",
        "We will use a crop augmentation which will randomly crop the training images and rescale them so that the neural network is resistant to scale changes in the numbers.\n",
        "\n",
        "Below we declare and then visualize the augmented dataset."
      ],
      "metadata": {
        "id": "tlI8a_RQSvNQ"
      }
    },
    {
      "cell_type": "code",
      "source": [
        "transform = transforms.Compose([transforms.ToTensor(),transforms.RandomResizedCrop(size=(28, 28),scale=(0.4,1.0))])\n",
        "\n",
        "trainset = torchvision.datasets.MNIST(root='./data', train=True, download=True, transform=transform)\n",
        "trainloader = torch.utils.data.DataLoader(trainset, batch_size=64, shuffle=True)\n",
        "\n",
        "# Visualize a grid of 25 samples from the MNIST dataset\n",
        "visualize_mnist_grid(trainloader, num_samples=25, num_rows=5)"
      ],
      "metadata": {
        "id": "O5tfxrxLTYim",
        "colab": {
          "base_uri": "https://localhost:8080/",
          "height": 656
        },
        "outputId": "3c82ab5d-74c9-4400-d2fc-62cd85647030"
      },
      "execution_count": null,
      "outputs": [
        {
          "output_type": "stream",
          "name": "stderr",
          "text": [
            "/usr/local/lib/python3.10/dist-packages/torchvision/transforms/functional.py:1603: UserWarning: The default value of the antialias parameter of all the resizing transforms (Resize(), RandomResizedCrop(), etc.) will change from None to True in v0.17, in order to be consistent across the PIL and Tensor backends. To suppress this warning, directly pass antialias=True (recommended, future default), antialias=None (current default, which means False for Tensors and True for PIL), or antialias=False (only works on Tensors - PIL will still use antialiasing). This also applies if you are using the inference transforms from the models weights: update the call to weights.transforms(antialias=True).\n",
            "  warnings.warn(\n"
          ]
        },
        {
          "output_type": "display_data",
          "data": {
            "text/plain": [
              "<Figure size 1200x800 with 25 Axes>"
            ],
            "image/png": "[encoded data removed]"
          },
          "metadata": {}
        }
      ]
    },
    {
      "cell_type": "markdown",
      "source": [
        "### Train and Evaluation\n",
        "\n",
        "We go through the training process using the same convolutional network architecture we used in Question 3.\n",
        "\n",
        "**Report the accuracy on the test set.**\n",
        "\n",
        "**Compared to the previous networks, how is the accuracy different? Why do you think this is so?**"
      ],
      "metadata": {
        "id": "m-hN5irbTeZt"
      }
    },
    {
      "cell_type": "code",
      "source": [
        "# Re-declare the CNN object, the loss, and the optimizer\n",
        "try:\n",
        "  del net\n",
        "  del loss\n",
        "except:\n",
        "  pass\n",
        "\n",
        "torch.cuda.empty_cache()\n",
        "net = CNN()\n",
        "net = net.to(device)\n",
        "criterion = nn.CrossEntropyLoss()\n",
        "optimizer = optim.Adam(net.parameters(), lr=0.001)\n",
        "\n",
        "# Run the training\n",
        "for epoch in range(10):  # You can adjust the number of epochs\n",
        "    running_loss = 0.0\n",
        "    for i, data in enumerate(trainloader, 0):\n",
        "        inputs, labels = data\n",
        "        inputs, labels = inputs.to(device), labels.to(device)\n",
        "        optimizer.zero_grad()\n",
        "        outputs = net(inputs)\n",
        "        loss = criterion(outputs, labels)\n",
        "        loss.backward()\n",
        "        optimizer.step()\n",
        "        running_loss += loss.item()\n",
        "    print(f'Epoch {epoch+1}, Loss: {running_loss/len(trainloader)}')\n",
        "\n",
        "# Evaluate on the test set\n",
        "transform = transforms.Compose([transforms.ToTensor()]) # remove the data augmentation transformation\n",
        "testset = torchvision.datasets.MNIST(root='./data', train=False, download=True, transform=transform)\n",
        "testloader = torch.utils.data.DataLoader(testset, batch_size=64, shuffle=False)\n",
        "\n",
        "correct = 0\n",
        "total = 0\n",
        "with torch.no_grad():\n",
        "    for data in testloader:\n",
        "        images, labels = data\n",
        "        images, labels = images.to(device), labels.to(device)\n",
        "        outputs = net(images)\n",
        "        _, predicted = torch.max(outputs, 1)\n",
        "        total += labels.size(0)\n",
        "        correct += (predicted == labels).sum().item()\n",
        "\n",
        "print(f'Accuracy on the test set: {100 * correct / total}%')"
      ],
      "metadata": {
        "id": "OmYgx2IWTeHF",
        "colab": {
          "base_uri": "https://localhost:8080/"
        },
        "outputId": "23c5045c-1744-4990-fcf7-45f94f5345ac"
      },
      "execution_count": null,
      "outputs": [
        {
          "output_type": "stream",
          "name": "stdout",
          "text": [
            "Epoch 1, Loss: 0.5987770256600273\n",
            "Epoch 2, Loss: 0.256655060954249\n",
            "Epoch 3, Loss: 0.19051920017922547\n",
            "Epoch 4, Loss: 0.16688698011118847\n",
            "Epoch 5, Loss: 0.14924709944090228\n",
            "Epoch 6, Loss: 0.13347483238330415\n",
            "Epoch 7, Loss: 0.12576897153809571\n",
            "Epoch 8, Loss: 0.11857654472941091\n",
            "Epoch 9, Loss: 0.10886199695707512\n",
            "Epoch 10, Loss: 0.10596992286703567\n",
            "Accuracy on the test set: 98.98%\n"
          ]
        }
      ]
    },
    {
      "cell_type": "markdown",
      "source": [
        "### Save the model\n",
        "\n",
        "We can save our model parameters to a specific file name.\n",
        "\n",
        "Make sure to save these weights to your local drive."
      ],
      "metadata": {
        "id": "bgy0KGh4UNSm"
      }
    },
    {
      "cell_type": "code",
      "source": [
        "filename = \"model_weights_cnn_aug.pth\"\n",
        "\n",
        "net = net.to(\"cpu\")\n",
        "torch.save(net.state_dict(),filename)"
      ],
      "metadata": {
        "id": "PygfPm4BUNEt"
      },
      "execution_count": null,
      "outputs": []
    }
  ]
}