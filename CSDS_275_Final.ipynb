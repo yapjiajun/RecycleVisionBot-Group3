{
  "nbformat": 4,
  "nbformat_minor": 0,
  "metadata": {
    "colab": {
      "provenance": []
    },
    "kernelspec": {
      "name": "python3",
      "display_name": "Python 3"
    },
    "language_info": {
      "name": "python"
    }
  },
  "cells": [
    {
      "cell_type": "code",
      "execution_count": null,
      "metadata": {
        "id": "WvN_ShIMc1ro",
        "colab": {
          "base_uri": "https://localhost:8080/"
        },
        "outputId": "38976764-4d89-40b6-b479-5c7d476f25ef"
      },
      "outputs": [
        {
          "output_type": "stream",
          "name": "stdout",
          "text": [
            "Drive already mounted at /content/drive; to attempt to forcibly remount, call drive.mount(\"/content/drive\", force_remount=True).\n",
            "cpu\n"
          ]
        }
      ],
      "source": [
        "from google.colab import drive\n",
        "drive.mount('/content/drive')\n",
        "import torch\n",
        "import glob\n",
        "import io\n",
        "import imageio.v2 as imageio\n",
        "import os\n",
        "import torch.nn as nn\n",
        "import torch.optim as optim\n",
        "import torchvision\n",
        "import torchvision.transforms as transforms\n",
        "import torch.nn.functional as F\n",
        "from torch.utils.data import Dataset, DataLoader\n",
        "\n",
        "import matplotlib.pyplot as plt\n",
        "import numpy as np\n",
        "\n",
        "def visualize_mnist_grid(data_loader, num_samples=25, num_rows=5):\n",
        "    # Create an iterator from the data loader\n",
        "    data_iterator = iter(data_loader)\n",
        "\n",
        "    # Get a batch of images and labels\n",
        "    images, labels = next(data_iterator)\n",
        "\n",
        "    # Display the images in a grid\n",
        "    fig, axes = plt.subplots(num_rows, num_samples // num_rows, figsize=(12, 8))\n",
        "\n",
        "    for i in range(num_samples):\n",
        "        row, col = i // (num_samples // num_rows), i % (num_samples // num_rows)\n",
        "        ax = axes[row, col]\n",
        "        image = images[i].numpy().squeeze()\n",
        "        label = labels[i].item()\n",
        "\n",
        "        ax.imshow(image, cmap='gray')\n",
        "        ax.set_title(f'Label: {label}')\n",
        "        ax.axis('off')\n",
        "\n",
        "    plt.subplots_adjust(wspace=0.2, hspace=0.5)\n",
        "    plt.show()\n",
        "\n",
        "# Run this to use GPU\n",
        "# Check for GPU availability\n",
        "device = torch.device(\"cuda:0\" if torch.cuda.is_available() else \"cpu\")\n",
        "print(device)\n",
        "\n",
        "from logging import root\n",
        "class GarbageDataset(Dataset):\n",
        "\n",
        "    def __init__(self, transform=None):\n",
        "        \"\"\"\n",
        "        Arguments:\n",
        "            root_dir (string): Directory with all the images.\n",
        "            transform (callable, optional): Optional transform to be applied\n",
        "                on a sample.\n",
        "        \"\"\"\n",
        "        self.root_dir = '/content/drive/MyDrive/archive.zip (Unzipped Files)/Garbage classification/Garbage classification'\n",
        "        self.cardboard_dir = self.root_dir + '/cardboard'\n",
        "        self.glass_dir = self.root_dir + '/glass'\n",
        "        self.metal_dir = self.root_dir + '/metal'\n",
        "        self.paper_dir = self.root_dir + '/paper'\n",
        "        self.plastic_dir = self.root_dir + '/plastic'\n",
        "        self.trash_dir = self.root_dir + '/trash'\n",
        "        self.combined_data = glob.glob(os.path.join(self.root_dir,'*','*.jpg'))\n",
        "        self.transform = transform\n",
        "        self.name_map = { 'cardboard': 0, 'glass': 1, 'metal': 2, 'paper': 3, 'plastic': 4, 'trash': 5 }\n",
        "\n",
        "    def __len__(self):\n",
        "        return len(self.combined_data)\n",
        "\n",
        "    def __getitem__(self, idx):\n",
        "        if torch.is_tensor(idx):\n",
        "            idx = idx.tolist()\n",
        "\n",
        "        img_name = self.combined_data[idx]\n",
        "        image = imageio.imread(img_name).astype(np.float32)\n",
        "        img_id = self.name_map[img_name.split('/')[7]]\n",
        "        sample = [image, img_id]\n",
        "\n",
        "        if self.transform:\n",
        "            sample = self.transform(sample)\n",
        "\n",
        "        return sample\n",
        "\n",
        "#transform = transforms.Compose([transforms.ToTensor(),transforms.RandomResizedCrop(size=(24, 24))])\n",
        "transform = transforms.Compose([transforms.ToTensor()])\n",
        "#trainset = torchvision.datasets.MNIST(root='./data', train=True, download=True, transform=transform)\n",
        "trainset = GarbageDataset()\n",
        "trainloader = torch.utils.data.DataLoader(trainset, batch_size=64, shuffle=True)\n",
        "\n",
        "# Visualize a grid of 25 samples from the garbage dataset\n",
        "#visualize_mnist_grid(trainloader, num_samples=25, num_rows=5)"
      ]
    },
    {
      "cell_type": "markdown",
      "source": [
        "##Fully Connected Neural Network"
      ],
      "metadata": {
        "id": "IBrnGhQwdQLr"
      }
    },
    {
      "cell_type": "code",
      "source": [
        "class Net(nn.Module):\n",
        "    def __init__(self):\n",
        "        super(Net, self).__init__()\n",
        "        self.dim = 512 * 384 * 3\n",
        "        self.fc1 = nn.Linear(self.dim, 128)\n",
        "        self.fc2 = nn.Linear(128, 64)\n",
        "        self.fc3 = nn.Linear(64, 6)\n",
        "\n",
        "    def forward(self, x):\n",
        "        x = x.view(-1, self.dim)  # Flatten the input\n",
        "        x = F.relu(self.fc1(x))  # ReLU Linear Layer\n",
        "        x = F.relu(self.fc2(x))  # ReLU Linear Layer\n",
        "        x = self.fc3(x)  # Linear Layer\n",
        "        return x\n",
        "\n",
        "net = Net().to(device)\n",
        "\n",
        "criterion = nn.CrossEntropyLoss()\n",
        "optimizer = optim.Adam(net.parameters(), lr=0.001)\n"
      ],
      "metadata": {
        "id": "0fU14B_hdRbC"
      },
      "execution_count": null,
      "outputs": []
    },
    {
      "cell_type": "code",
      "source": [
        "for epoch in range(100):  # You can adjust the number of epochs\n",
        "    running_loss = 0.0\n",
        "    for i, data in enumerate(trainloader, 0):\n",
        "        inputs, labels = data\n",
        "        inputs, labels = inputs.to(device), labels.to(device)\n",
        "        optimizer.zero_grad()\n",
        "        outputs = net(inputs)\n",
        "        loss = criterion(outputs, labels)\n",
        "        loss.backward()\n",
        "        optimizer.step()\n",
        "        running_loss += loss.item()\n",
        "    print(f'Epoch {epoch+1}, Loss: {running_loss/len(trainloader)}')"
      ],
      "metadata": {
        "id": "I6r-etkOdWoK"
      },
      "execution_count": null,
      "outputs": []
    },
    {
      "cell_type": "code",
      "source": [
        "\"\"\"\n",
        "testset = torchvision.datasets.MNIST(root='./data', train=False, download=True, transform=transform)\n",
        "testloader = torch.utils.data.DataLoader(testset, batch_size=64, shuffle=False)\n",
        "\n",
        "correct = 0\n",
        "total = 0\n",
        "with torch.no_grad():\n",
        "    for data in testloader:\n",
        "        images, labels = data\n",
        "        images, labels = images.to(device), labels.to(device)\n",
        "        outputs = net(images)\n",
        "        _, predicted = torch.max(outputs, 1)\n",
        "        total += labels.size(0)\n",
        "        correct += (predicted == labels).sum().item()\n",
        "\n",
        "print(f'Accuracy on the test set: {100 * correct / total}%')"
      ],
      "metadata": {
        "colab": {
          "base_uri": "https://localhost:8080/"
        },
        "id": "iY2esZyAem46",
        "outputId": "cde1babf-c5c6-4c5a-e974-d268d795bd17"
      },
      "execution_count": null,
      "outputs": [
        {
          "output_type": "stream",
          "name": "stdout",
          "text": [
            "Accuracy on the test set: 94.19%\n"
          ]
        }
      ]
    },
    {
      "cell_type": "code",
      "source": [
        "filename = \"fully_connected_e100.pth\"\n",
        "\n",
        "net = net.to(\"cpu\")\n",
        "torch.save(net.state_dict(),filename)"
      ],
      "metadata": {
        "id": "PKx3AhNPmL00"
      },
      "execution_count": null,
      "outputs": []
    },
    {
      "cell_type": "markdown",
      "source": [
        "##Convolutional Neural Network"
      ],
      "metadata": {
        "id": "mi9-YU-kPgXn"
      }
    },
    {
      "cell_type": "code",
      "source": [
        "class CNN(nn.Module):\n",
        "    def __init__(self):\n",
        "        super(CNN, self).__init__()\n",
        "        self.conv1 = nn.Conv2d(3, 32, 5)\n",
        "        self.pool1 = nn.MaxPool2d(2, 2)\n",
        "        self.conv2 = nn.Conv2d(32, 64, 3)\n",
        "        self.pool2 = nn.MaxPool2d(2, 2)\n",
        "        self.conv3 = nn.Conv2d(64, 64, 2)\n",
        "        self.pool3 = nn.MaxPool2d(2, 2)\n",
        "        self.conv4 = nn.Conv2d(64, 128, 1)\n",
        "        self.pool4 = nn.MaxPool2d(3, 3)\n",
        "        self.fc1 = nn.Linear(256, 32) #Changed to match shape\n",
        "        self.fc2 = nn.Linear(32, 6)\n",
        "\n",
        "    def forward(self, x):\n",
        "        x = x.permute(0, 3, 1, 2) #Added to reshape data properly\n",
        "        x = self.pool1(F.relu(self.conv1(x))) # Conv ReLU Pool\n",
        "        x = self.pool2(F.relu(self.conv2(x))) # Conv ReLU Pool\n",
        "        x = self.pool3(F.relu(self.conv3(x))) # Conv ReLU Pool\n",
        "        x = self.pool3(F.relu(self.conv3(x))) # Conv ReLU Pool\n",
        "        x = self.pool3(F.relu(self.conv3(x))) # Conv ReLU Pool\n",
        "        x = self.pool3(F.relu(self.conv3(x))) # Conv ReLU Pool\n",
        "        x = self.pool4(F.relu(self.conv4(x))) # Conv ReLU Pool\n",
        "        x = x.reshape(-1, 256) #Changed from \"x.view(-1, 256)\"\n",
        "        x = F.relu(self.fc1(x)) # ReLU Linear Layer\n",
        "        x = self.fc2(x) # Linear Layer\n",
        "        return x\n",
        "\n",
        "\n",
        "try:\n",
        "  del net\n",
        "  del loss\n",
        "except:\n",
        "  pass\n",
        "\n",
        "torch.cuda.empty_cache()\n",
        "net = CNN().to(device)\n",
        "\n",
        "criterion = nn.CrossEntropyLoss()\n",
        "optimizer = optim.Adam(net.parameters(), lr=0.001)"
      ],
      "metadata": {
        "id": "eilAx-nAiJBv"
      },
      "execution_count": null,
      "outputs": []
    },
    {
      "cell_type": "code",
      "source": [
        "for epoch in range(10):  # You can adjust the number of epochs\n",
        "    running_loss = 0.0\n",
        "    for i, data in enumerate(trainloader, 0):\n",
        "        inputs, labels = data\n",
        "        inputs, labels = inputs.to(device), labels.to(device)\n",
        "        optimizer.zero_grad()\n",
        "        outputs = net(inputs)\n",
        "        loss = criterion(outputs, labels)\n",
        "        loss.backward()\n",
        "        optimizer.step()\n",
        "        running_loss += loss.item()\n",
        "    print(f'Epoch {epoch+1}, Loss: {running_loss/len(trainloader)}')"
      ],
      "metadata": {
        "id": "xbjoHRXWSXzQ",
        "colab": {
          "base_uri": "https://localhost:8080/"
        },
        "outputId": "3985ed6d-7313-4d80-ee4a-49a4a288ae1c"
      },
      "execution_count": null,
      "outputs": [
        {
          "output_type": "stream",
          "name": "stdout",
          "text": [
            "Epoch 1, Loss: 1.7234584778547286\n",
            "Epoch 2, Loss: 1.6981065273284912\n",
            "Epoch 3, Loss: 1.602803072333336\n",
            "Epoch 4, Loss: 1.4282032310962678\n",
            "Epoch 5, Loss: 1.36719608604908\n",
            "Epoch 6, Loss: 1.3026127249002457\n",
            "Epoch 7, Loss: 1.2647073566913605\n",
            "Epoch 8, Loss: 1.1947712004184723\n",
            "Epoch 9, Loss: 1.1514584124088287\n",
            "Epoch 10, Loss: 1.0966570198535919\n"
          ]
        }
      ]
    },
    {
      "cell_type": "markdown",
      "source": [
        "### Evaluate our performance on the test dataset\n",
        "\n",
        "Next, we create a new dataloader for the MNIST Test Set and run an evaluation of our trained neural network.\n",
        "\n",
        "**Report your accuracy on the test set**"
      ],
      "metadata": {
        "id": "o-aWhBN2SdO_"
      }
    },
    {
      "cell_type": "code",
      "source": [
        "testset = torchvision.datasets.MNIST(root='./data', train=False, download=True, transform=transform)\n",
        "testloader = torch.utils.data.DataLoader(testset, batch_size=64, shuffle=False)\n",
        "\n",
        "correct = 0\n",
        "total = 0\n",
        "with torch.no_grad():\n",
        "    for data in testloader:\n",
        "        images, labels = data\n",
        "        images, labels = images.to(device), labels.to(device)\n",
        "        outputs = net(images)\n",
        "        _, predicted = torch.max(outputs, 1)\n",
        "        total += labels.size(0)\n",
        "        correct += (predicted == labels).sum().item()\n",
        "\n",
        "print(f'Accuracy on the test set: {100 * correct / total}%')"
      ],
      "metadata": {
        "id": "hCm0SGLwSlWR",
        "colab": {
          "base_uri": "https://localhost:8080/"
        },
        "outputId": "a9b93df7-4db1-4d12-cc58-d923bdfbd618"
      },
      "execution_count": null,
      "outputs": [
        {
          "output_type": "stream",
          "name": "stdout",
          "text": [
            "Accuracy on the test set: 99.13%\n"
          ]
        }
      ]
    },
    {
      "cell_type": "markdown",
      "source": [
        "### Save our model parameters\n",
        "\n",
        "We can save our model parameters to a specific file name.\n",
        "\n",
        "Make sure to save these weights to your local drive."
      ],
      "metadata": {
        "id": "ItgIyGfYSkiJ"
      }
    },
    {
      "cell_type": "code",
      "source": [
        "filename = \"convolutional.pth\"\n",
        "\n",
        "net = net.to(\"cpu\")\n",
        "torch.save(net.state_dict(),filename)"
      ],
      "metadata": {
        "id": "GdDacOH7Scuf"
      },
      "execution_count": null,
      "outputs": []
    },
    {
      "cell_type": "markdown",
      "source": [
        "## Question 4: Train with data augmentation\n",
        "\n",
        "Finally we train a Convolutional Neural Network, but this time we create variation in our training data using data augmentation.\n",
        "\n",
        "We will use a crop augmentation which will randomly crop the training images and rescale them so that the neural network is resistant to scale changes in the numbers.\n",
        "\n",
        "Below we declare and then visualize the augmented dataset."
      ],
      "metadata": {
        "id": "tlI8a_RQSvNQ"
      }
    },
    {
      "cell_type": "code",
      "source": [
        "transform = transforms.Compose([transforms.ToTensor(),transforms.RandomResizedCrop(size=(28, 28),scale=(0.4,1.0))])\n",
        "\n",
        "trainset = torchvision.datasets.MNIST(root='./data', train=True, download=True, transform=transform)\n",
        "trainloader = torch.utils.data.DataLoader(trainset, batch_size=64, shuffle=True)\n",
        "\n",
        "# Visualize a grid of 25 samples from the MNIST dataset\n",
        "visualize_mnist_grid(trainloader, num_samples=25, num_rows=5)"
      ],
      "metadata": {
        "id": "O5tfxrxLTYim",
        "colab": {
          "base_uri": "https://localhost:8080/",
          "height": 675
        },
        "outputId": "46b99ea3-f28a-4358-fe0f-c0bf198da088"
      },
      "execution_count": null,
      "outputs": [
        {
          "output_type": "display_data",
          "data": {
            "text/plain": [
              "<Figure size 1200x800 with 25 Axes>"
            ],
            "image/png": "[encoded data removed]"
          },
          "metadata": {}
        }
      ]
    },
    {
      "cell_type": "markdown",
      "source": [
        "### Train and Evaluation\n",
        "\n",
        "We go through the training process using the same convolutional network architecture we used in Question 3.\n",
        "\n",
        "**Report the accuracy on the test set.**\n",
        "\n",
        "**Compared to the previous networks, how is the accuracy different? Why do you think this is so?**"
      ],
      "metadata": {
        "id": "m-hN5irbTeZt"
      }
    },
    {
      "cell_type": "code",
      "source": [
        "# Re-declare the CNN object, the loss, and the optimizer\n",
        "try:\n",
        "  del net\n",
        "  del loss\n",
        "except:\n",
        "  pass\n",
        "\n",
        "torch.cuda.empty_cache()\n",
        "net = CNN()\n",
        "net = net.to(device)\n",
        "criterion = nn.CrossEntropyLoss()\n",
        "optimizer = optim.Adam(net.parameters(), lr=0.001)\n",
        "\n",
        "# Run the training\n",
        "for epoch in range(10):  # You can adjust the number of epochs\n",
        "    running_loss = 0.0\n",
        "    for i, data in enumerate(trainloader, 0):\n",
        "        inputs, labels = data\n",
        "        inputs, labels = inputs.to(device), labels.to(device)\n",
        "        optimizer.zero_grad()\n",
        "        outputs = net(inputs)\n",
        "        loss = criterion(outputs, labels)\n",
        "        loss.backward()\n",
        "        optimizer.step()\n",
        "        running_loss += loss.item()\n",
        "    print(f'Epoch {epoch+1}, Loss: {running_loss/len(trainloader)}')\n",
        "\n",
        "# Evaluate on the test set\n",
        "transform = transforms.Compose([transforms.ToTensor()]) # remove the data augmentation transformation\n",
        "testset = torchvision.datasets.MNIST(root='./data', train=False, download=True, transform=transform)\n",
        "testloader = torch.utils.data.DataLoader(testset, batch_size=64, shuffle=False)\n",
        "\n",
        "correct = 0\n",
        "total = 0\n",
        "with torch.no_grad():\n",
        "    for data in testloader:\n",
        "        images, labels = data\n",
        "        images, labels = images.to(device), labels.to(device)\n",
        "        outputs = net(images)\n",
        "        _, predicted = torch.max(outputs, 1)\n",
        "        total += labels.size(0)\n",
        "        correct += (predicted == labels).sum().item()\n",
        "\n",
        "print(f'Accuracy on the test set: {100 * correct / total}%')"
      ],
      "metadata": {
        "id": "OmYgx2IWTeHF",
        "colab": {
          "base_uri": "https://localhost:8080/"
        },
        "outputId": "b0d16713-ed0f-482a-f0bd-fb455012bbd9"
      },
      "execution_count": null,
      "outputs": [
        {
          "output_type": "stream",
          "name": "stdout",
          "text": [
            "Epoch 1, Loss: 0.6198504070229114\n",
            "Epoch 2, Loss: 0.25809562807557174\n",
            "Epoch 3, Loss: 0.19113122458968843\n",
            "Epoch 4, Loss: 0.16078417735503936\n",
            "Epoch 5, Loss: 0.14168485284927906\n",
            "Epoch 6, Loss: 0.12974561053389774\n",
            "Epoch 7, Loss: 0.12322548593976286\n",
            "Epoch 8, Loss: 0.11653583931293823\n",
            "Epoch 9, Loss: 0.11060112785559886\n",
            "Epoch 10, Loss: 0.10122443717181571\n",
            "Accuracy on the test set: 98.8%\n"
          ]
        }
      ]
    },
    {
      "cell_type": "markdown",
      "source": [
        "### Save the model\n",
        "\n",
        "We can save our model parameters to a specific file name.\n",
        "\n",
        "Make sure to save these weights to your local drive."
      ],
      "metadata": {
        "id": "bgy0KGh4UNSm"
      }
    },
    {
      "cell_type": "code",
      "source": [
        "filename = \"data_augmentation.pth\"\n",
        "\n",
        "net = net.to(\"cpu\")\n",
        "torch.save(net.state_dict(),filename)"
      ],
      "metadata": {
        "id": "PygfPm4BUNEt"
      },
      "execution_count": null,
      "outputs": []
    }
  ]
}